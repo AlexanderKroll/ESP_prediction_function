{
 "cells": [
  {
   "cell_type": "markdown",
   "metadata": {},
   "source": [
    "#### Dependencies:"
   ]
  },
  {
   "cell_type": "code",
   "execution_count": 1,
   "metadata": {},
   "outputs": [
    {
     "name": "stderr",
     "output_type": "stream",
     "text": [
      "C:\\Users\\alexk\\anaconda3\\envs\\ESP\\lib\\site-packages\\scipy\\__init__.py:146: UserWarning: A NumPy version >=1.16.5 and <1.23.0 is required for this version of SciPy (detected version 1.23.1\n",
      "  warnings.warn(f\"A NumPy version >={np_minversion} and <{np_maxversion}\"\n"
     ]
    }
   ],
   "source": [
    "from ES_prediction import *"
   ]
  },
  {
   "cell_type": "markdown",
   "metadata": {},
   "source": [
    "Example for using the ESP prediction function. You can enter multiple enyzmes and (potential) substrates. Enzyme 1 will be paired with substrates 1, enzyme 2 will be paired with substrates 2 and so on...\n",
    "Enter enzymes as amino acid sequences and substrates/products either as SMILES strings, KEGG Compound IDs, or InChI strings. Calculations for few data poiunts usually take only a few minutes."
   ]
  },
  {
   "cell_type": "code",
   "execution_count": 2,
   "metadata": {},
   "outputs": [
    {
     "name": "stdout",
     "output_type": "stream",
     "text": [
      "Step 1/3: Calculating numerical representations for all metabolites.\n",
      "Step 2/3: Calculating numerical representations for all enzymes.\n",
      ".....2(a) Loading ESM-1b model.\n",
      ".....2(b) Loading model parameters for task-specific model.\n",
      ".....2(c) Calculating enzyme representations.\n",
      "Step 3/3: Making predictions for ESP.\n",
      "(3, 100) (3, 1280)\n"
     ]
    },
    {
     "data": {
      "text/html": [
       "<div>\n",
       "<style scoped>\n",
       "    .dataframe tbody tr th:only-of-type {\n",
       "        vertical-align: middle;\n",
       "    }\n",
       "\n",
       "    .dataframe tbody tr th {\n",
       "        vertical-align: top;\n",
       "    }\n",
       "\n",
       "    .dataframe thead th {\n",
       "        text-align: right;\n",
       "    }\n",
       "</style>\n",
       "<table border=\"1\" class=\"dataframe\">\n",
       "  <thead>\n",
       "    <tr style=\"text-align: right;\">\n",
       "      <th></th>\n",
       "      <th>substrate</th>\n",
       "      <th>enzyme</th>\n",
       "      <th>GNN FP</th>\n",
       "      <th>enzyme rep</th>\n",
       "      <th>complete</th>\n",
       "      <th>metabolite_similarity_score</th>\n",
       "      <th>metabolite in training set</th>\n",
       "      <th>#metabolite in training set</th>\n",
       "      <th>Prediction</th>\n",
       "    </tr>\n",
       "  </thead>\n",
       "  <tbody>\n",
       "    <tr>\n",
       "      <th>0</th>\n",
       "      <td>C00069</td>\n",
       "      <td>MARLPFYLLVISTLLLVVTADSFLARPPSSSFLHALSNKRASTPAS...</td>\n",
       "      <td>[0.0, 0.0, 0.0, 0.0, 0.0, 0.0, 1.2933536, 0.40...</td>\n",
       "      <td>[0.09673238, -0.33875608, -0.2729393, 1.375219...</td>\n",
       "      <td>True</td>\n",
       "      <td>0.028571</td>\n",
       "      <td>False</td>\n",
       "      <td>0</td>\n",
       "      <td>0.921605</td>\n",
       "    </tr>\n",
       "    <tr>\n",
       "      <th>1</th>\n",
       "      <td>C00002</td>\n",
       "      <td>MKGRRRRRREYCKFALLLVLYTLVLLLVPSVLDGGRDGDKGAEHCP...</td>\n",
       "      <td>[0.0, 0.0, 0.0, 153.39508, 802.88385, 144.3722...</td>\n",
       "      <td>[-0.18286787, -0.030101534, -0.02814214, 0.963...</td>\n",
       "      <td>True</td>\n",
       "      <td>1.000000</td>\n",
       "      <td>True</td>\n",
       "      <td>1674</td>\n",
       "      <td>0.005202</td>\n",
       "    </tr>\n",
       "    <tr>\n",
       "      <th>2</th>\n",
       "      <td>C00002</td>\n",
       "      <td>MASNPDRGEILLTELQVDSRPLPFSENVSAVQKLDFSDTIVQQKLD...</td>\n",
       "      <td>[0.0, 0.0, 0.0, 153.39508, 802.88385, 144.3722...</td>\n",
       "      <td>[-0.33943057, -0.6953071, -0.33752456, 1.53279...</td>\n",
       "      <td>True</td>\n",
       "      <td>1.000000</td>\n",
       "      <td>True</td>\n",
       "      <td>1674</td>\n",
       "      <td>0.999808</td>\n",
       "    </tr>\n",
       "  </tbody>\n",
       "</table>\n",
       "</div>"
      ],
      "text/plain": [
       "  substrate                                             enzyme  \\\n",
       "0    C00069  MARLPFYLLVISTLLLVVTADSFLARPPSSSFLHALSNKRASTPAS...   \n",
       "1    C00002  MKGRRRRRREYCKFALLLVLYTLVLLLVPSVLDGGRDGDKGAEHCP...   \n",
       "2    C00002  MASNPDRGEILLTELQVDSRPLPFSENVSAVQKLDFSDTIVQQKLD...   \n",
       "\n",
       "                                              GNN FP  \\\n",
       "0  [0.0, 0.0, 0.0, 0.0, 0.0, 0.0, 1.2933536, 0.40...   \n",
       "1  [0.0, 0.0, 0.0, 153.39508, 802.88385, 144.3722...   \n",
       "2  [0.0, 0.0, 0.0, 153.39508, 802.88385, 144.3722...   \n",
       "\n",
       "                                          enzyme rep  complete  \\\n",
       "0  [0.09673238, -0.33875608, -0.2729393, 1.375219...      True   \n",
       "1  [-0.18286787, -0.030101534, -0.02814214, 0.963...      True   \n",
       "2  [-0.33943057, -0.6953071, -0.33752456, 1.53279...      True   \n",
       "\n",
       "   metabolite_similarity_score  metabolite in training set  \\\n",
       "0                     0.028571                       False   \n",
       "1                     1.000000                        True   \n",
       "2                     1.000000                        True   \n",
       "\n",
       "   #metabolite in training set  Prediction  \n",
       "0                            0    0.921605  \n",
       "1                         1674    0.005202  \n",
       "2                         1674    0.999808  "
      ]
     },
     "execution_count": 2,
     "metadata": {},
     "output_type": "execute_result"
    }
   ],
   "source": [
    "substrates = [\"C00069\",\n",
    "              \"C00002\",\n",
    "             \"C00002\"]\n",
    "enzymes = [\"MARLPFYLLVISTLLLVVTADSFLARPPSSSFLHALSNKRASTPASLPSCSLDFLLQTRGGTAANAATTALPTSALVERKGGAAVALEGGKTLWEKSKVWVFIGLWYFFNVAFNIYNKKVLNALPLPWTVSIAQLGLGALYTMFLWLVRARKMPTIAAPEMKTLSILGVLHAVSHITAITSLGAGAVSFTHIVKSAEPFFSAVFAGLFFGQFFSLPVYAALIPVVSGVAYASLKELTFTWLSFWCAMASNVVCAARGVVVKGMMGGKPTQSKDLTSSNMYSVLTILAALVLLPFGALVEGPGLHAAWKAAAAHPSLTNGGTELAKYLVYSGLTFFLYNEVAFAALESLHPISHAVANTIKRVVIIVVSVLVFRNPMSTQSIIGSSTAVIGVLLYSLAKHYCK\",\n",
    "           \"MKGRRRRRREYCKFALLLVLYTLVLLLVPSVLDGGRDGDKGAEHCPGLQRSLGVWSLEAAAAGEREQGAEARAAEEGGANQSPRFPSNLSGAVGEAVSREKQHIYVHATWRTGSSFLGELFNQHPDVFYLYEPMWHLWQALYPGDAESLQGALRDMLRSLFRCDFSVLRLYAPPGDPAARAPDTANLTTAALFRWRTNKVICSPPLCPGAPRARAEVGLVEDTACERSCPPVAIRALEAECRKYPVVVIKDVRLLDLGVLVPLLRDPGLNLKVVQLFRDPRAVHNSRLKSRQGLLRESIQVLRTRQRGDRFHRVLLAHGVGARPGGQSRALPAAPRADFFLTGALEVICEAWLRDLLFARGAPAWLRRRYLRLRYEDLVRQPRAQLRRLLRFSGLRALAALDAFALNMTRGAAYGADRPFHLSARDAREAVHAWRERLSREQVRQVEAACAPAMRLLAYPRSGEEGDAEQPREGETPLEMDADGAT\",\n",
    "          \"MASNPDRGEILLTELQVDSRPLPFSENVSAVQKLDFSDTIVQQKLDDVKDRIKREIRKELKIKEGAENLRKVTTDKKNLAYVDNILKKSNKKLEELHHKLQELNAHIVVSDPEDYTDCPRTPDTPNSDSRSSTSNNRRLMALQKQLDIELKVKQGAENMIQMYSNGPSKDRKLHGTAQQLLQDNKTKIEVIRMHILQAVLTNELAFDNAKPVISPLELRNGRIIEHHFRIEFAVAEGAKNVMKLLGSGKVTDRKALSEAQARFNESSQKLDLLKYSLEQRLNELPKNHPKSSVVIEELSLVASPTLSPRQSMLSTQNQYSTLSKPAALTGTLEVRLWGAKISWENVPGRSKATSVALPGWSPSENRSSFMSRTSKSKSGSSRNLLKTDDLSNDVCAVLKLDNTVVGQTIWKPISNQSWDQKFTLELDRSRELEISVYWRDWRSLCAVKFLRLEDFLDNQRHGMALYLEPQGTLFAEVTFFNPVIERRPKLQRQKKIFSKQQGKTFLRAPQMNINIATWGRLVRRAIPTVNHSGTFSPQTPVPATVPVVDARTPELAPPASDSTVTKLDFDLEPEAPPAPPRASSLGEIDDSSELRVLDIPGQGSETVFDIENDRNNMRPKSKSEYELNIPDSSRSCWSVGELEDKRSQQRFQFNLQDFRCCAVLGRGHFGKVLLAEYKHTNEMFAIKALKKGDIVARDEVDSLMCEKRIFETVNSVRHPFLVNLFACFQTKEHVCFVMEYAAGGDLMMHIHTDVFSEPRAVFYAACVVLGLQYLHEHKIVYRDLKLDNLLLDTEASVKIADFGLCKEGMGYGDRTSTFCGTPEFLAPEVLTETSYTRAVDWWGLGVLIYEMLVGESPFPGDDEEEVFDSIVNDEVRYPRFLSTEAISIMRRLLRRNPERRLGAGEKDAEDVKKHPFFRLTDWSALLDKKVKPPFVPTIRGREDVSNFDDEFTSEAPILTPPREPRILLEEEQEMFRDFDYVADWC\",\n",
    "          ]\n",
    "df = ESP_predicton(substrate_list = substrates,\n",
    "               enzyme_list = enzymes)\n",
    "df"
   ]
  }
 ],
 "metadata": {
  "kernelspec": {
   "display_name": "Python 3 (ipykernel)",
   "language": "python",
   "name": "python3"
  },
  "language_info": {
   "codemirror_mode": {
    "name": "ipython",
    "version": 3
   },
   "file_extension": ".py",
   "mimetype": "text/x-python",
   "name": "python",
   "nbconvert_exporter": "python",
   "pygments_lexer": "ipython3",
   "version": "3.8.13"
  }
 },
 "nbformat": 4,
 "nbformat_minor": 4
}
